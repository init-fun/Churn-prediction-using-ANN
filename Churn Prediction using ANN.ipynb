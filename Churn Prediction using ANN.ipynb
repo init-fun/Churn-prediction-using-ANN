{
 "cells": [
  {
   "cell_type": "code",
   "execution_count": 1,
   "metadata": {},
   "outputs": [],
   "source": [
    "import numpy as np\n",
    "import pandas as pd\n",
    "import matplotlib.pyplot as plt\n",
    "%matplotlib inline\n"
   ]
  },
  {
   "cell_type": "code",
   "execution_count": 2,
   "metadata": {},
   "outputs": [
    {
     "data": {
      "text/html": [
       "<div>\n",
       "<style scoped>\n",
       "    .dataframe tbody tr th:only-of-type {\n",
       "        vertical-align: middle;\n",
       "    }\n",
       "\n",
       "    .dataframe tbody tr th {\n",
       "        vertical-align: top;\n",
       "    }\n",
       "\n",
       "    .dataframe thead th {\n",
       "        text-align: right;\n",
       "    }\n",
       "</style>\n",
       "<table border=\"1\" class=\"dataframe\">\n",
       "  <thead>\n",
       "    <tr style=\"text-align: right;\">\n",
       "      <th></th>\n",
       "      <th>RowNumber</th>\n",
       "      <th>CustomerId</th>\n",
       "      <th>Surname</th>\n",
       "      <th>CreditScore</th>\n",
       "      <th>Geography</th>\n",
       "      <th>Gender</th>\n",
       "      <th>Age</th>\n",
       "      <th>Tenure</th>\n",
       "      <th>Balance</th>\n",
       "      <th>NumOfProducts</th>\n",
       "      <th>HasCrCard</th>\n",
       "      <th>IsActiveMember</th>\n",
       "      <th>EstimatedSalary</th>\n",
       "      <th>Exited</th>\n",
       "    </tr>\n",
       "  </thead>\n",
       "  <tbody>\n",
       "    <tr>\n",
       "      <th>0</th>\n",
       "      <td>1</td>\n",
       "      <td>15634602</td>\n",
       "      <td>Hargrave</td>\n",
       "      <td>619</td>\n",
       "      <td>France</td>\n",
       "      <td>Female</td>\n",
       "      <td>42</td>\n",
       "      <td>2</td>\n",
       "      <td>0.00</td>\n",
       "      <td>1</td>\n",
       "      <td>1</td>\n",
       "      <td>1</td>\n",
       "      <td>101348.88</td>\n",
       "      <td>1</td>\n",
       "    </tr>\n",
       "    <tr>\n",
       "      <th>1</th>\n",
       "      <td>2</td>\n",
       "      <td>15647311</td>\n",
       "      <td>Hill</td>\n",
       "      <td>608</td>\n",
       "      <td>Spain</td>\n",
       "      <td>Female</td>\n",
       "      <td>41</td>\n",
       "      <td>1</td>\n",
       "      <td>83807.86</td>\n",
       "      <td>1</td>\n",
       "      <td>0</td>\n",
       "      <td>1</td>\n",
       "      <td>112542.58</td>\n",
       "      <td>0</td>\n",
       "    </tr>\n",
       "    <tr>\n",
       "      <th>2</th>\n",
       "      <td>3</td>\n",
       "      <td>15619304</td>\n",
       "      <td>Onio</td>\n",
       "      <td>502</td>\n",
       "      <td>France</td>\n",
       "      <td>Female</td>\n",
       "      <td>42</td>\n",
       "      <td>8</td>\n",
       "      <td>159660.80</td>\n",
       "      <td>3</td>\n",
       "      <td>1</td>\n",
       "      <td>0</td>\n",
       "      <td>113931.57</td>\n",
       "      <td>1</td>\n",
       "    </tr>\n",
       "    <tr>\n",
       "      <th>3</th>\n",
       "      <td>4</td>\n",
       "      <td>15701354</td>\n",
       "      <td>Boni</td>\n",
       "      <td>699</td>\n",
       "      <td>France</td>\n",
       "      <td>Female</td>\n",
       "      <td>39</td>\n",
       "      <td>1</td>\n",
       "      <td>0.00</td>\n",
       "      <td>2</td>\n",
       "      <td>0</td>\n",
       "      <td>0</td>\n",
       "      <td>93826.63</td>\n",
       "      <td>0</td>\n",
       "    </tr>\n",
       "    <tr>\n",
       "      <th>4</th>\n",
       "      <td>5</td>\n",
       "      <td>15737888</td>\n",
       "      <td>Mitchell</td>\n",
       "      <td>850</td>\n",
       "      <td>Spain</td>\n",
       "      <td>Female</td>\n",
       "      <td>43</td>\n",
       "      <td>2</td>\n",
       "      <td>125510.82</td>\n",
       "      <td>1</td>\n",
       "      <td>1</td>\n",
       "      <td>1</td>\n",
       "      <td>79084.10</td>\n",
       "      <td>0</td>\n",
       "    </tr>\n",
       "  </tbody>\n",
       "</table>\n",
       "</div>"
      ],
      "text/plain": [
       "   RowNumber  CustomerId   Surname  CreditScore Geography  Gender  Age  \\\n",
       "0          1    15634602  Hargrave          619    France  Female   42   \n",
       "1          2    15647311      Hill          608     Spain  Female   41   \n",
       "2          3    15619304      Onio          502    France  Female   42   \n",
       "3          4    15701354      Boni          699    France  Female   39   \n",
       "4          5    15737888  Mitchell          850     Spain  Female   43   \n",
       "\n",
       "   Tenure    Balance  NumOfProducts  HasCrCard  IsActiveMember  \\\n",
       "0       2       0.00              1          1               1   \n",
       "1       1   83807.86              1          0               1   \n",
       "2       8  159660.80              3          1               0   \n",
       "3       1       0.00              2          0               0   \n",
       "4       2  125510.82              1          1               1   \n",
       "\n",
       "   EstimatedSalary  Exited  \n",
       "0        101348.88       1  \n",
       "1        112542.58       0  \n",
       "2        113931.57       1  \n",
       "3         93826.63       0  \n",
       "4         79084.10       0  "
      ]
     },
     "execution_count": 2,
     "metadata": {},
     "output_type": "execute_result"
    }
   ],
   "source": [
    "data = pd.read_csv('Churn_Modelling.csv')\n",
    "data.head()"
   ]
  },
  {
   "cell_type": "code",
   "execution_count": 3,
   "metadata": {},
   "outputs": [],
   "source": [
    "X = data.iloc[:,3:-1].values\n",
    "y = data.iloc[:,13].values"
   ]
  },
  {
   "cell_type": "code",
   "execution_count": 4,
   "metadata": {},
   "outputs": [
    {
     "data": {
      "text/plain": [
       "array([619, 'France', 'Female', 42, 2, 0.0, 1, 1, 1, 101348.88],\n",
       "      dtype=object)"
      ]
     },
     "execution_count": 4,
     "metadata": {},
     "output_type": "execute_result"
    }
   ],
   "source": [
    "X[0]"
   ]
  },
  {
   "cell_type": "code",
   "execution_count": 5,
   "metadata": {},
   "outputs": [],
   "source": [
    "#encoding the categorical features"
   ]
  },
  {
   "cell_type": "code",
   "execution_count": 6,
   "metadata": {},
   "outputs": [],
   "source": [
    "from sklearn.preprocessing import LabelEncoder, OneHotEncoder"
   ]
  },
  {
   "cell_type": "code",
   "execution_count": 9,
   "metadata": {},
   "outputs": [],
   "source": [
    "labelencoder_country = LabelEncoder()"
   ]
  },
  {
   "cell_type": "code",
   "execution_count": 12,
   "metadata": {},
   "outputs": [],
   "source": [
    "X [:,1] = labelencoder_country.fit_transform(X[:,1])"
   ]
  },
  {
   "cell_type": "code",
   "execution_count": 13,
   "metadata": {},
   "outputs": [],
   "source": [
    "labelencoder_gender = LabelEncoder()\n",
    "X[:,2] = labelencoder_gender.fit_transform(X[:,2])"
   ]
  },
  {
   "cell_type": "code",
   "execution_count": 14,
   "metadata": {},
   "outputs": [],
   "source": [
    "#ohe the country"
   ]
  },
  {
   "cell_type": "code",
   "execution_count": 15,
   "metadata": {},
   "outputs": [
    {
     "name": "stderr",
     "output_type": "stream",
     "text": [
      "C:\\Users\\Comrade49\\Anaconda3\\lib\\site-packages\\sklearn\\preprocessing\\_encoders.py:363: FutureWarning: The handling of integer data will change in version 0.22. Currently, the categories are determined based on the range [0, max(values)], while in the future they will be determined based on the unique values.\n",
      "If you want the future behaviour and silence this warning, you can specify \"categories='auto'\".\n",
      "In case you used a LabelEncoder before this OneHotEncoder to convert the categories to integers, then you can now use the OneHotEncoder directly.\n",
      "  warnings.warn(msg, FutureWarning)\n",
      "C:\\Users\\Comrade49\\Anaconda3\\lib\\site-packages\\sklearn\\preprocessing\\_encoders.py:385: DeprecationWarning: The 'categorical_features' keyword is deprecated in version 0.20 and will be removed in 0.22. You can use the ColumnTransformer instead.\n",
      "  \"use the ColumnTransformer instead.\", DeprecationWarning)\n"
     ]
    }
   ],
   "source": [
    "ohe = OneHotEncoder(categorical_features=[1])\n",
    "X = ohe.fit_transform(X).toarray()"
   ]
  },
  {
   "cell_type": "code",
   "execution_count": 16,
   "metadata": {},
   "outputs": [],
   "source": [
    "X = X[:,1:] #removing the dummy variable trap"
   ]
  },
  {
   "cell_type": "code",
   "execution_count": 17,
   "metadata": {},
   "outputs": [],
   "source": [
    "from sklearn.model_selection import train_test_split"
   ]
  },
  {
   "cell_type": "code",
   "execution_count": 18,
   "metadata": {},
   "outputs": [],
   "source": [
    "X_train,X_test,y_train,y_test = train_test_split(X,y,test_size=0.2, random_state =0)"
   ]
  },
  {
   "cell_type": "code",
   "execution_count": 19,
   "metadata": {},
   "outputs": [],
   "source": [
    "#feature_scaling"
   ]
  },
  {
   "cell_type": "code",
   "execution_count": 20,
   "metadata": {},
   "outputs": [],
   "source": [
    "from sklearn.preprocessing import StandardScaler"
   ]
  },
  {
   "cell_type": "code",
   "execution_count": 21,
   "metadata": {},
   "outputs": [],
   "source": [
    "sc = StandardScaler()"
   ]
  },
  {
   "cell_type": "code",
   "execution_count": 22,
   "metadata": {},
   "outputs": [],
   "source": [
    "X_train = sc.fit_transform(X_train)\n",
    "X_test = sc.transform(X_test)"
   ]
  },
  {
   "cell_type": "markdown",
   "metadata": {},
   "source": [
    "#### making an ann"
   ]
  },
  {
   "cell_type": "code",
   "execution_count": 23,
   "metadata": {},
   "outputs": [
    {
     "name": "stderr",
     "output_type": "stream",
     "text": [
      "Using TensorFlow backend.\n"
     ]
    }
   ],
   "source": [
    "import keras"
   ]
  },
  {
   "cell_type": "code",
   "execution_count": 24,
   "metadata": {},
   "outputs": [],
   "source": [
    "from keras.models import Sequential #for initilize the neural network\n",
    "from keras.layers import Dense #to create layers of arti neural network"
   ]
  },
  {
   "cell_type": "code",
   "execution_count": 25,
   "metadata": {},
   "outputs": [],
   "source": [
    "#initilising the ANN"
   ]
  },
  {
   "cell_type": "code",
   "execution_count": 26,
   "metadata": {},
   "outputs": [],
   "source": [
    "classifier = Sequential() #name of the ann is classifier"
   ]
  },
  {
   "cell_type": "code",
   "execution_count": 27,
   "metadata": {},
   "outputs": [],
   "source": [
    "#adding the input layer and first hidden layer"
   ]
  },
  {
   "cell_type": "code",
   "execution_count": 28,
   "metadata": {},
   "outputs": [],
   "source": [
    "classifier.add(Dense(units=int((11+1)/2),kernel_initializer = 'uniform', activation='relu', input_shape=(11,)))"
   ]
  },
  {
   "cell_type": "code",
   "execution_count": 29,
   "metadata": {},
   "outputs": [],
   "source": [
    "#adding the second hidden layer\n",
    "classifier.add(Dense(units=int((11+1)/2),kernel_initializer = 'uniform', activation='relu'))"
   ]
  },
  {
   "cell_type": "code",
   "execution_count": 30,
   "metadata": {},
   "outputs": [],
   "source": [
    "#ouput layer\n",
    "classifier.add(Dense(units= 1,kernel_initializer = 'uniform', activation='sigmoid'))"
   ]
  },
  {
   "cell_type": "code",
   "execution_count": 31,
   "metadata": {},
   "outputs": [],
   "source": [
    "#compiling the ann  \n",
    "classifier.compile(optimizer = 'adam', loss = 'binary_crossentropy',metrics= ['accuracy'])\n",
    "\n",
    "# for more than 2 categories then loss categoirical_crossentropy"
   ]
  },
  {
   "cell_type": "code",
   "execution_count": 32,
   "metadata": {},
   "outputs": [
    {
     "name": "stdout",
     "output_type": "stream",
     "text": [
      "Epoch 1/100\n",
      "8000/8000 [==============================] - 4s 474us/step - loss: 0.4844 - acc: 0.7956\n",
      "Epoch 2/100\n",
      "8000/8000 [==============================] - 1s 147us/step - loss: 0.4280 - acc: 0.7960\n",
      "Epoch 3/100\n",
      "8000/8000 [==============================] - 1s 154us/step - loss: 0.4232 - acc: 0.7960\n",
      "Epoch 4/100\n",
      "8000/8000 [==============================] - 1s 161us/step - loss: 0.4197 - acc: 0.8174\n",
      "Epoch 5/100\n",
      "8000/8000 [==============================] - 1s 160us/step - loss: 0.4170 - acc: 0.8237\n",
      "Epoch 6/100\n",
      "8000/8000 [==============================] - 1s 147us/step - loss: 0.4154 - acc: 0.8276\n",
      "Epoch 7/100\n",
      "8000/8000 [==============================] - 1s 149us/step - loss: 0.4141 - acc: 0.8291\n",
      "Epoch 8/100\n",
      "8000/8000 [==============================] - 1s 146us/step - loss: 0.4125 - acc: 0.8324\n",
      "Epoch 9/100\n",
      "8000/8000 [==============================] - 1s 147us/step - loss: 0.4112 - acc: 0.8337\n",
      "Epoch 10/100\n",
      "8000/8000 [==============================] - 1s 148us/step - loss: 0.4104 - acc: 0.8342\n",
      "Epoch 11/100\n",
      "8000/8000 [==============================] - 1s 146us/step - loss: 0.4099 - acc: 0.8344\n",
      "Epoch 12/100\n",
      "8000/8000 [==============================] - 1s 148us/step - loss: 0.4093 - acc: 0.8355\n",
      "Epoch 13/100\n",
      "8000/8000 [==============================] - 1s 168us/step - loss: 0.4084 - acc: 0.8359\n",
      "Epoch 14/100\n",
      "8000/8000 [==============================] - 1s 170us/step - loss: 0.4080 - acc: 0.8359\n",
      "Epoch 15/100\n",
      "8000/8000 [==============================] - 1s 144us/step - loss: 0.4070 - acc: 0.8347\n",
      "Epoch 16/100\n",
      "8000/8000 [==============================] - 1s 161us/step - loss: 0.4071 - acc: 0.8337\n",
      "Epoch 17/100\n",
      "8000/8000 [==============================] - 1s 161us/step - loss: 0.4064 - acc: 0.8350\n",
      "Epoch 18/100\n",
      "8000/8000 [==============================] - 1s 158us/step - loss: 0.4059 - acc: 0.8349\n",
      "Epoch 19/100\n",
      "8000/8000 [==============================] - 1s 155us/step - loss: 0.4053 - acc: 0.8349\n",
      "Epoch 20/100\n",
      "8000/8000 [==============================] - 1s 146us/step - loss: 0.4054 - acc: 0.8360\n",
      "Epoch 21/100\n",
      "8000/8000 [==============================] - 1s 144us/step - loss: 0.4050 - acc: 0.8349\n",
      "Epoch 22/100\n",
      "8000/8000 [==============================] - 1s 151us/step - loss: 0.4047 - acc: 0.8342\n",
      "Epoch 23/100\n",
      "8000/8000 [==============================] - 1s 158us/step - loss: 0.4044 - acc: 0.8347\n",
      "Epoch 24/100\n",
      "8000/8000 [==============================] - 1s 144us/step - loss: 0.4037 - acc: 0.8350\n",
      "Epoch 25/100\n",
      "8000/8000 [==============================] - 1s 151us/step - loss: 0.4045 - acc: 0.8342 1s - loss\n",
      "Epoch 26/100\n",
      "8000/8000 [==============================] - 1s 152us/step - loss: 0.4034 - acc: 0.8364\n",
      "Epoch 27/100\n",
      "8000/8000 [==============================] - 1s 154us/step - loss: 0.4032 - acc: 0.8364\n",
      "Epoch 28/100\n",
      "8000/8000 [==============================] - 1s 145us/step - loss: 0.4035 - acc: 0.8351\n",
      "Epoch 29/100\n",
      "8000/8000 [==============================] - 1s 141us/step - loss: 0.4032 - acc: 0.8345\n",
      "Epoch 30/100\n",
      "8000/8000 [==============================] - 1s 143us/step - loss: 0.4034 - acc: 0.8349\n",
      "Epoch 31/100\n",
      "8000/8000 [==============================] - 1s 148us/step - loss: 0.4027 - acc: 0.8337\n",
      "Epoch 32/100\n",
      "8000/8000 [==============================] - 1s 152us/step - loss: 0.4028 - acc: 0.8341\n",
      "Epoch 33/100\n",
      "8000/8000 [==============================] - 1s 147us/step - loss: 0.4029 - acc: 0.8361\n",
      "Epoch 34/100\n",
      "8000/8000 [==============================] - 1s 142us/step - loss: 0.4021 - acc: 0.8342\n",
      "Epoch 35/100\n",
      "8000/8000 [==============================] - 1s 141us/step - loss: 0.4023 - acc: 0.8365\n",
      "Epoch 36/100\n",
      "8000/8000 [==============================] - 1s 137us/step - loss: 0.4024 - acc: 0.8347\n",
      "Epoch 37/100\n",
      "8000/8000 [==============================] - 1s 143us/step - loss: 0.4022 - acc: 0.8347\n",
      "Epoch 38/100\n",
      "8000/8000 [==============================] - 1s 150us/step - loss: 0.4023 - acc: 0.8351\n",
      "Epoch 39/100\n",
      "8000/8000 [==============================] - 1s 143us/step - loss: 0.4025 - acc: 0.8342\n",
      "Epoch 40/100\n",
      "8000/8000 [==============================] - 1s 140us/step - loss: 0.4022 - acc: 0.8336\n",
      "Epoch 41/100\n",
      "8000/8000 [==============================] - 1s 142us/step - loss: 0.4018 - acc: 0.8354\n",
      "Epoch 42/100\n",
      "8000/8000 [==============================] - ETA: 0s - loss: 0.4026 - acc: 0.835 - 1s 138us/step - loss: 0.4021 - acc: 0.8355\n",
      "Epoch 43/100\n",
      "8000/8000 [==============================] - 1s 134us/step - loss: 0.4023 - acc: 0.8347\n",
      "Epoch 44/100\n",
      "8000/8000 [==============================] - 1s 139us/step - loss: 0.4012 - acc: 0.8347\n",
      "Epoch 45/100\n",
      "8000/8000 [==============================] - 1s 137us/step - loss: 0.4007 - acc: 0.8337\n",
      "Epoch 46/100\n",
      "8000/8000 [==============================] - 1s 137us/step - loss: 0.4013 - acc: 0.8356\n",
      "Epoch 47/100\n",
      "8000/8000 [==============================] - 1s 135us/step - loss: 0.4018 - acc: 0.8339\n",
      "Epoch 48/100\n",
      "8000/8000 [==============================] - 1s 136us/step - loss: 0.4015 - acc: 0.8352\n",
      "Epoch 49/100\n",
      "8000/8000 [==============================] - 1s 137us/step - loss: 0.4015 - acc: 0.8352\n",
      "Epoch 50/100\n",
      "8000/8000 [==============================] - 1s 135us/step - loss: 0.4011 - acc: 0.8342\n",
      "Epoch 51/100\n",
      "8000/8000 [==============================] - 1s 134us/step - loss: 0.4015 - acc: 0.8351\n",
      "Epoch 52/100\n",
      "8000/8000 [==============================] - 1s 136us/step - loss: 0.4015 - acc: 0.8342\n",
      "Epoch 53/100\n",
      "8000/8000 [==============================] - 1s 134us/step - loss: 0.4011 - acc: 0.8351\n",
      "Epoch 54/100\n",
      "8000/8000 [==============================] - 1s 136us/step - loss: 0.4006 - acc: 0.8352\n",
      "Epoch 55/100\n",
      "8000/8000 [==============================] - 1s 134us/step - loss: 0.4013 - acc: 0.8339\n",
      "Epoch 56/100\n",
      "8000/8000 [==============================] - 1s 138us/step - loss: 0.4011 - acc: 0.8362\n",
      "Epoch 57/100\n",
      "8000/8000 [==============================] - 1s 136us/step - loss: 0.4005 - acc: 0.8349\n",
      "Epoch 58/100\n",
      "8000/8000 [==============================] - 1s 137us/step - loss: 0.4009 - acc: 0.8336\n",
      "Epoch 59/100\n",
      "8000/8000 [==============================] - 1s 135us/step - loss: 0.4005 - acc: 0.8349\n",
      "Epoch 60/100\n",
      "8000/8000 [==============================] - 1s 136us/step - loss: 0.4009 - acc: 0.8351\n",
      "Epoch 61/100\n",
      "8000/8000 [==============================] - 1s 134us/step - loss: 0.4011 - acc: 0.8346\n",
      "Epoch 62/100\n",
      "8000/8000 [==============================] - 1s 135us/step - loss: 0.4006 - acc: 0.8340\n",
      "Epoch 63/100\n",
      "8000/8000 [==============================] - 1s 136us/step - loss: 0.4008 - acc: 0.8352\n",
      "Epoch 64/100\n",
      "8000/8000 [==============================] - 1s 134us/step - loss: 0.4010 - acc: 0.8346\n",
      "Epoch 65/100\n",
      "8000/8000 [==============================] - 1s 140us/step - loss: 0.4008 - acc: 0.8344\n",
      "Epoch 66/100\n",
      "8000/8000 [==============================] - 1s 137us/step - loss: 0.4006 - acc: 0.8351\n",
      "Epoch 67/100\n",
      "8000/8000 [==============================] - 1s 140us/step - loss: 0.4003 - acc: 0.8350\n",
      "Epoch 68/100\n",
      "8000/8000 [==============================] - 1s 140us/step - loss: 0.4000 - acc: 0.8347\n",
      "Epoch 69/100\n",
      "8000/8000 [==============================] - 1s 144us/step - loss: 0.4002 - acc: 0.8357\n",
      "Epoch 70/100\n",
      "8000/8000 [==============================] - 1s 142us/step - loss: 0.4005 - acc: 0.8339\n",
      "Epoch 71/100\n",
      "8000/8000 [==============================] - 1s 148us/step - loss: 0.4002 - acc: 0.8345\n",
      "Epoch 72/100\n",
      "8000/8000 [==============================] - 1s 140us/step - loss: 0.4004 - acc: 0.8360\n",
      "Epoch 73/100\n",
      "8000/8000 [==============================] - 1s 139us/step - loss: 0.4007 - acc: 0.8345\n",
      "Epoch 74/100\n",
      "8000/8000 [==============================] - 1s 139us/step - loss: 0.4005 - acc: 0.8346\n",
      "Epoch 75/100\n",
      "8000/8000 [==============================] - 1s 136us/step - loss: 0.4002 - acc: 0.8356\n",
      "Epoch 76/100\n",
      "8000/8000 [==============================] - 1s 130us/step - loss: 0.4001 - acc: 0.8360\n",
      "Epoch 77/100\n",
      "8000/8000 [==============================] - 1s 130us/step - loss: 0.4005 - acc: 0.8342\n",
      "Epoch 78/100\n",
      "8000/8000 [==============================] - 1s 128us/step - loss: 0.4006 - acc: 0.8357\n",
      "Epoch 79/100\n",
      "8000/8000 [==============================] - 1s 128us/step - loss: 0.4005 - acc: 0.8367\n",
      "Epoch 80/100\n",
      "8000/8000 [==============================] - 1s 130us/step - loss: 0.4005 - acc: 0.8352\n",
      "Epoch 81/100\n"
     ]
    },
    {
     "name": "stdout",
     "output_type": "stream",
     "text": [
      "8000/8000 [==============================] - 1s 154us/step - loss: 0.4002 - acc: 0.8356\n",
      "Epoch 82/100\n",
      "8000/8000 [==============================] - 1s 166us/step - loss: 0.4002 - acc: 0.8345\n",
      "Epoch 83/100\n",
      "8000/8000 [==============================] - 1s 166us/step - loss: 0.4002 - acc: 0.8351\n",
      "Epoch 84/100\n",
      "8000/8000 [==============================] - 1s 167us/step - loss: 0.4003 - acc: 0.8364\n",
      "Epoch 85/100\n",
      "8000/8000 [==============================] - 1s 155us/step - loss: 0.4001 - acc: 0.8341\n",
      "Epoch 86/100\n",
      "8000/8000 [==============================] - 1s 147us/step - loss: 0.3999 - acc: 0.8356\n",
      "Epoch 87/100\n",
      "8000/8000 [==============================] - 1s 146us/step - loss: 0.4004 - acc: 0.8340\n",
      "Epoch 88/100\n",
      "8000/8000 [==============================] - 1s 147us/step - loss: 0.4003 - acc: 0.8357\n",
      "Epoch 89/100\n",
      "8000/8000 [==============================] - 1s 150us/step - loss: 0.4000 - acc: 0.8362\n",
      "Epoch 90/100\n",
      "8000/8000 [==============================] - 1s 147us/step - loss: 0.4004 - acc: 0.8337\n",
      "Epoch 91/100\n",
      "8000/8000 [==============================] - 1s 150us/step - loss: 0.4000 - acc: 0.8330\n",
      "Epoch 92/100\n",
      "8000/8000 [==============================] - 1s 148us/step - loss: 0.3998 - acc: 0.8351\n",
      "Epoch 93/100\n",
      "8000/8000 [==============================] - 1s 153us/step - loss: 0.4002 - acc: 0.8366\n",
      "Epoch 94/100\n",
      "8000/8000 [==============================] - 1s 151us/step - loss: 0.4001 - acc: 0.8342\n",
      "Epoch 95/100\n",
      "8000/8000 [==============================] - 1s 147us/step - loss: 0.4001 - acc: 0.8351\n",
      "Epoch 96/100\n",
      "8000/8000 [==============================] - 1s 149us/step - loss: 0.4002 - acc: 0.8356\n",
      "Epoch 97/100\n",
      "8000/8000 [==============================] - 1s 145us/step - loss: 0.4002 - acc: 0.8345\n",
      "Epoch 98/100\n",
      "8000/8000 [==============================] - 1s 144us/step - loss: 0.4000 - acc: 0.8346\n",
      "Epoch 99/100\n",
      "8000/8000 [==============================] - 1s 149us/step - loss: 0.4000 - acc: 0.8341\n",
      "Epoch 100/100\n",
      "8000/8000 [==============================] - 1s 150us/step - loss: 0.4000 - acc: 0.8339\n"
     ]
    },
    {
     "data": {
      "text/plain": [
       "<keras.callbacks.History at 0x180597eea90>"
      ]
     },
     "execution_count": 32,
     "metadata": {},
     "output_type": "execute_result"
    }
   ],
   "source": [
    "#fittin the ann to the training set\n",
    "classifier.fit(X_train,y_train,batch_size = 10 , epochs= 100)"
   ]
  },
  {
   "cell_type": "code",
   "execution_count": 33,
   "metadata": {},
   "outputs": [],
   "source": [
    "#wwe got the accuracy we get the 84% accuracy"
   ]
  },
  {
   "cell_type": "code",
   "execution_count": 35,
   "metadata": {},
   "outputs": [],
   "source": [
    "y_pred = classifier.predict(X_test)"
   ]
  },
  {
   "cell_type": "code",
   "execution_count": 36,
   "metadata": {},
   "outputs": [
    {
     "data": {
      "text/plain": [
       "array([[0.15310848],\n",
       "       [0.31816348],\n",
       "       [0.18325089],\n",
       "       ...,\n",
       "       [0.18104105],\n",
       "       [0.15568902],\n",
       "       [0.07212337]], dtype=float32)"
      ]
     },
     "execution_count": 36,
     "metadata": {},
     "output_type": "execute_result"
    }
   ],
   "source": [
    "y_pred"
   ]
  },
  {
   "cell_type": "code",
   "execution_count": 39,
   "metadata": {},
   "outputs": [
    {
     "data": {
      "text/plain": [
       "array([[False],\n",
       "       [False],\n",
       "       [False],\n",
       "       ...,\n",
       "       [False],\n",
       "       [False],\n",
       "       [False]])"
      ]
     },
     "execution_count": 39,
     "metadata": {},
     "output_type": "execute_result"
    }
   ],
   "source": [
    "y_pred = (y_pred > 0.5)\n",
    "y_pred"
   ]
  },
  {
   "cell_type": "code",
   "execution_count": 40,
   "metadata": {},
   "outputs": [],
   "source": [
    "from sklearn.metrics import confusion_matrix"
   ]
  },
  {
   "cell_type": "code",
   "execution_count": 41,
   "metadata": {},
   "outputs": [
    {
     "data": {
      "text/plain": [
       "array([[1551,   44],\n",
       "       [ 277,  128]], dtype=int64)"
      ]
     },
     "execution_count": 41,
     "metadata": {},
     "output_type": "execute_result"
    }
   ],
   "source": [
    "cm = confusion_matrix(y_test,y_pred)\n",
    "cm"
   ]
  },
  {
   "cell_type": "code",
   "execution_count": 46,
   "metadata": {},
   "outputs": [],
   "source": [
    "from sklearn.metrics import accuracy_score\n"
   ]
  },
  {
   "cell_type": "code",
   "execution_count": 47,
   "metadata": {},
   "outputs": [
    {
     "data": {
      "text/plain": [
       "83.95"
      ]
     },
     "execution_count": 47,
     "metadata": {},
     "output_type": "execute_result"
    }
   ],
   "source": [
    "acs = accuracy_score(y_test,y_pred)\n",
    "acs*100"
   ]
  },
  {
   "cell_type": "code",
   "execution_count": null,
   "metadata": {},
   "outputs": [],
   "source": [
    "#here we also get the accuracy of ~84%"
   ]
  }
 ],
 "metadata": {
  "kernelspec": {
   "display_name": "Python 3",
   "language": "python",
   "name": "python3"
  },
  "language_info": {
   "codemirror_mode": {
    "name": "ipython",
    "version": 3
   },
   "file_extension": ".py",
   "mimetype": "text/x-python",
   "name": "python",
   "nbconvert_exporter": "python",
   "pygments_lexer": "ipython3",
   "version": "3.6.6"
  }
 },
 "nbformat": 4,
 "nbformat_minor": 2
}
